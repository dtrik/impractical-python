{
 "cells": [
  {
   "cell_type": "code",
   "execution_count": null,
   "metadata": {},
   "outputs": [],
   "source": [
    "# default_exp pseudonyms"
   ]
  },
  {
   "cell_type": "markdown",
   "metadata": {},
   "source": [
    "# Pseudonyms\n",
    "\n",
    "> API details."
   ]
  },
  {
   "cell_type": "code",
   "execution_count": null,
   "metadata": {},
   "outputs": [],
   "source": [
    "#hide\n",
    "from nbdev.showdoc import *"
   ]
  },
  {
   "cell_type": "code",
   "execution_count": null,
   "metadata": {},
   "outputs": [],
   "source": [
    "#export\n",
    "import random\n",
    "\n",
    "def pseudonyms():\n",
    "    \"\"\"Generate pseudonyms from (first_name,last_name) tuple.\"\"\"\n",
    "    print(\"Welcome to pseudonym generator.\")\n",
    "\n",
    "    first = ('Baby Oil', 'Bad News', 'Big Burps', \"Bill 'Beenie-Weenie'\",\n",
    "             \"Bob 'Stinkbug'\", 'Bowel Noises', 'Boxelder', \"Bud 'Lite'\",\n",
    "             'Butterbean', 'Buttermilk', 'Buttocks', 'Chad', 'Chesterfield',\n",
    "             'Chewy', 'Chigger', 'Cinnabuns', 'Cleet', 'Cornbread',\n",
    "             'Crab Meat', 'Crapps', 'Dark Skies', 'Dennis Clawhammer',\n",
    "             'Dicman', 'Elphonso', 'Fancypants', 'Figgs', 'Foncy', 'Gootsy',\n",
    "             'Greasy Jim', 'Huckleberry', 'Huggy', 'Ignatious', 'Jimbo',\n",
    "             \"Joe 'Pottin Soil'\", 'Johnny', 'Lemongrass', 'Lil Debil',\n",
    "             'Longbranch', '\"Lunch Money\"', 'Mergatroid', '\"Mr Peabody\"',\n",
    "             'Oil-Can', 'Oinks', 'Old Scratch', 'Ovaltine', 'Pennywhistle',\n",
    "             'Pitchfork Ben', 'Potato Bug', 'Pushmeet', 'Rock Candy',\n",
    "             'Schlomo', 'Scratchensniff', 'Scut', \"Sid 'The Squirts'\",\n",
    "             'Skidmark', 'Slaps', 'Snakes', 'Snoobs', 'Snorki', 'Soupcan Sam',\n",
    "             'Spitzitout', 'Squids', 'Stinky', 'Storyboard', 'Sweet Tea',\n",
    "             'TeeTee', 'Wheezy Joe', \"Winston 'Jazz Hands'\", 'Worms')\n",
    "\n",
    "    last = ('Appleyard', 'Bigmeat', 'Bloominshine', 'Boogerbottom',\n",
    "            'Breedslovetrout', 'Butterbaugh', 'Clovenhoof', 'Clutterbuck',\n",
    "            'Cocktoasten', 'Endicott', 'Fewhairs', 'Gooberdapple',\n",
    "            'Goodensmith', 'Goodpasture', 'Guster', 'Henderson', 'Hooperbag',\n",
    "            'Hoosenater', 'Hootkins', 'Jefferson', 'Jenkins',\n",
    "            'Jingley-Schmidt', 'Johnson', 'Kingfish', 'Listenbee', \"M'Bembo\",\n",
    "            'McFadden', 'Moonshine', 'Nettles', 'Noseworthy', 'Olivetti',\n",
    "            'Outerbridge', 'Overpeck', 'Overturf', 'Oxhandler', 'Pealike',\n",
    "            'Pennywhistle', 'Peterson', 'Pieplow', 'Pinkerton', 'Porkins',\n",
    "            'Putney', 'Quakenbush', 'Rainwater', 'Rosenthal', 'Rubbins',\n",
    "            'Sackrider', 'Snuggleshine', 'Splern', 'Stevens', 'Stroganoff',\n",
    "            'Sugar-Gold', 'Swackhamer', 'Tippins', 'Turnipseed', 'Vinaigrette',\n",
    "            'Walkingstick', 'Wallbanger', 'Weewax', 'Weiners', 'Whipkey',\n",
    "            'Wigglesworth', 'Wimplesnatch', 'Winterkorn', 'Woolysocks')\n",
    "\n",
    "    while True:\n",
    "        first_name = random.choice(first)\n",
    "        last_name = random.choice(last)\n",
    "        print(f\"Here is a pseudonym: {first_name} {last_name}\")\n",
    "        choice = input(\"Try again? y/n: \")\n",
    "        if choice.lower() == \"n\":\n",
    "            break"
   ]
  },
  {
   "cell_type": "code",
   "execution_count": null,
   "metadata": {},
   "outputs": [
    {
     "name": "stdout",
     "output_type": "stream",
     "text": [
      "Welcome to pseudonym generator.\n",
      "Here is a pseudonym: Chesterfield Overturf\n",
      "Try again? y/n: n\n"
     ]
    }
   ],
   "source": [
    "pseudonyms()"
   ]
  },
  {
   "cell_type": "code",
   "execution_count": null,
   "metadata": {},
   "outputs": [],
   "source": []
  }
 ],
 "metadata": {
  "kernelspec": {
   "display_name": "Python 3",
   "language": "python",
   "name": "python3"
  }
 },
 "nbformat": 4,
 "nbformat_minor": 2
}

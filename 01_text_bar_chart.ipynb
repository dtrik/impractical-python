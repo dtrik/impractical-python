{
 "cells": [
  {
   "cell_type": "code",
   "execution_count": null,
   "metadata": {},
   "outputs": [],
   "source": [
    "# default_exp text_bar_chart"
   ]
  },
  {
   "cell_type": "markdown",
   "metadata": {},
   "source": [
    "# Text Bar Chart\n",
    "\n",
    "> API details."
   ]
  },
  {
   "cell_type": "code",
   "execution_count": null,
   "metadata": {},
   "outputs": [],
   "source": [
    "#hide\n",
    "from nbdev.showdoc import *"
   ]
  },
  {
   "cell_type": "code",
   "execution_count": null,
   "metadata": {},
   "outputs": [],
   "source": [
    "#export\n",
    "from collections import defaultdict\n",
    "def text_bar_chart(text):\n",
    "    \"\"\"Convert text to histogram of characters\"\"\"\n",
    "    d = defaultdict(list)\n",
    "    text_lower = text.lower()\n",
    "    for s in text_lower:\n",
    "        if s.isalpha():\n",
    "            d[s].append(s)\n",
    "    return(d)"
   ]
  },
  {
   "cell_type": "code",
   "execution_count": null,
   "metadata": {},
   "outputs": [
    {
     "name": "stdout",
     "output_type": "stream",
     "text": [
      "Input the text to be rendered to bar chart: import pprint\n",
      "defaultdict(<class 'list'>,\n",
      "            {'i': ['i', 'i'],\n",
      "             'm': ['m'],\n",
      "             'n': ['n'],\n",
      "             'o': ['o'],\n",
      "             'p': ['p', 'p', 'p'],\n",
      "             'r': ['r', 'r'],\n",
      "             't': ['t', 't']})\n"
     ]
    }
   ],
   "source": [
    "import pprint\n",
    "text = input(\"Input the text to be rendered to bar chart: \")\n",
    "pp = pprint.PrettyPrinter()\n",
    "pp.pprint(text_bar_chart(text))"
   ]
  },
  {
   "cell_type": "code",
   "execution_count": null,
   "metadata": {},
   "outputs": [],
   "source": []
  }
 ],
 "metadata": {
  "kernelspec": {
   "display_name": "Python 3",
   "language": "python",
   "name": "python3"
  }
 },
 "nbformat": 4,
 "nbformat_minor": 2
}
